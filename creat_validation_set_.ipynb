{
  "nbformat": 4,
  "nbformat_minor": 0,
  "metadata": {
    "colab": {
      "provenance": []
    },
    "kernelspec": {
      "name": "python3",
      "display_name": "Python 3"
    },
    "language_info": {
      "name": "python"
    }
  },
  "cells": [
    {
      "cell_type": "code",
      "source": [
        "from google.colab import drive\n",
        "drive.mount('/content/drive')\n",
        "%cd /content/drive/Shared drives/2023[PFE-1904] SAFA/Project phases/Dataset phase/preprocessing/symptoms - disease/\n",
        "%ls"
      ],
      "metadata": {
        "colab": {
          "base_uri": "https://localhost:8080/"
        },
        "id": "E0BW2dekDFq3",
        "outputId": "811ef5dc-c21d-4784-ccd0-fa9107c1965d"
      },
      "execution_count": 4,
      "outputs": [
        {
          "output_type": "stream",
          "name": "stdout",
          "text": [
            "Mounted at /content/drive\n",
            "/content/drive/Shared drives/2023[PFE-1904] SAFA/Project phases/Dataset phase/preprocessing/symptoms - disease\n",
            "'n1 test.csv'  'n1 train.csv'\n"
          ]
        }
      ]
    },
    {
      "cell_type": "code",
      "execution_count": 25,
      "metadata": {
        "colab": {
          "base_uri": "https://localhost:8080/"
        },
        "id": "dc5qlvY3zoFs",
        "outputId": "e39fc224-b6e7-4263-f9d0-955d065b87b5"
      },
      "outputs": [
        {
          "output_type": "stream",
          "name": "stdout",
          "text": [
            "Diagnosis Counts:\n",
            "cervical spondylosis               40\n",
            "allergy                            40\n",
            "chicken pox                        40\n",
            "diabetes                           40\n",
            "psoriasis                          40\n",
            "hypertension                       40\n",
            "impetigo                           40\n",
            "bronchial asthma                   40\n",
            "varicose veins                     40\n",
            "malaria                            40\n",
            "drug reaction                      40\n",
            "dengue                             40\n",
            "arthritis                          40\n",
            "fungal infection                   39\n",
            "common cold                        39\n",
            "gastroesophageal reflux disease    39\n",
            "urinary tract infection            39\n",
            "typhoid                            38\n",
            "pneumonia                          37\n",
            "peptic ulcer disease               37\n",
            "jaundice                           33\n",
            "migraine                           32\n",
            "Name: output_text, dtype: int64\n",
            "Imbalance Ratio: 1.25\n"
          ]
        }
      ],
      "source": [
        "#checking for imbalanced dataset\n",
        "import pandas as pd\n",
        "\n",
        "# Load the dataset into a DataFrame (assuming it's in a CSV format)\n",
        "# Replace 'dataset.csv' with the actual path to your dataset file\n",
        "dataset = pd.read_csv('/content/drive/Shared drives/2023[PFE-1904] SAFA/Project phases/Dataset phase/preprocessing/symptoms - disease/n1 train.csv')\n",
        "\n",
        "# Assuming 'diagnosis' is the column containing diagnosis labels\n",
        "diagnosis_counts = dataset['output_text'].value_counts()\n",
        "\n",
        "# Print the counts of each diagnosis\n",
        "print(\"Diagnosis Counts:\")\n",
        "print(diagnosis_counts)\n",
        "\n",
        "# Calculate the imbalance ratio\n",
        "imbalance_ratio = max(diagnosis_counts) / min(diagnosis_counts)\n",
        "print(\"Imbalance Ratio:\", imbalance_ratio)\n"
      ]
    },
    {
      "cell_type": "code",
      "source": [
        "from sklearn.model_selection import train_test_split\n",
        "import pandas as pd\n",
        "\n",
        "# Use the 'stratify' parameter to perform stratified sampling on the entire DataFrame\n",
        "train_data, val_data = train_test_split(dataset, test_size=0.2, random_state=42, stratify=dataset['output_text'])\n",
        "\n",
        "# Print the sizes of the training and validation sets\n",
        "print(\"Total size:\", len(dataset))\n",
        "print(\"Training set size:\", len(train_data))\n",
        "print(\"Validation set size:\", len(val_data))\n"
      ],
      "metadata": {
        "colab": {
          "base_uri": "https://localhost:8080/"
        },
        "id": "j4plM8XNEBag",
        "outputId": "ceae7100-3cce-4fde-bf6d-4dfcbf104969"
      },
      "execution_count": 26,
      "outputs": [
        {
          "output_type": "stream",
          "name": "stdout",
          "text": [
            "Total size: 853\n",
            "Training set size: 682\n",
            "Validation set size: 171\n"
          ]
        }
      ]
    },
    {
      "cell_type": "code",
      "source": [
        "#calculate the ratios for traning\n",
        "# Assuming 'diagnosis' is the column containing diagnosis labels\n",
        "diagnosis_counts = train_data['output_text'].value_counts()\n",
        "\n",
        "# Calculate the total size of the dataset\n",
        "total_size = len(train_data)\n",
        "\n",
        "# Calculate the ratio for each unique value in the 'diagnosis' column\n",
        "train_ratios = diagnosis_counts / total_size\n",
        "\n",
        "# Print the ratios for each diagnosis value\n",
        "print(\"Ratios for each diagnosis value:\")\n",
        "print(train_ratios)\n",
        "#print(train_data['output_text'].value_counts())"
      ],
      "metadata": {
        "colab": {
          "base_uri": "https://localhost:8080/"
        },
        "id": "pOzepJ7UH0IX",
        "outputId": "eb485cd7-2ec8-476c-ee58-857532a76c80"
      },
      "execution_count": 28,
      "outputs": [
        {
          "output_type": "stream",
          "name": "stdout",
          "text": [
            "Ratios for each diagnosis value:\n",
            "diabetes                           0.046921\n",
            "hypertension                       0.046921\n",
            "varicose veins                     0.046921\n",
            "cervical spondylosis               0.046921\n",
            "psoriasis                          0.046921\n",
            "bronchial asthma                   0.046921\n",
            "malaria                            0.046921\n",
            "chicken pox                        0.046921\n",
            "arthritis                          0.046921\n",
            "allergy                            0.046921\n",
            "dengue                             0.046921\n",
            "drug reaction                      0.046921\n",
            "impetigo                           0.046921\n",
            "fungal infection                   0.045455\n",
            "common cold                        0.045455\n",
            "gastroesophageal reflux disease    0.045455\n",
            "urinary tract infection            0.045455\n",
            "pneumonia                          0.043988\n",
            "typhoid                            0.043988\n",
            "peptic ulcer disease               0.043988\n",
            "jaundice                           0.038123\n",
            "migraine                           0.038123\n",
            "Name: output_text, dtype: float64\n"
          ]
        }
      ]
    },
    {
      "cell_type": "code",
      "source": [
        "#calculate the ratios for validation\n",
        "# Assuming 'diagnosis' is the column containing diagnosis labels\n",
        "diagnosis_counts = val_data['output_text'].value_counts()\n",
        "\n",
        "# Calculate the total size of the dataset\n",
        "total_size = len(val_data)\n",
        "\n",
        "# Calculate the ratio for each unique value in the 'diagnosis' column\n",
        "val_ratios = diagnosis_counts / total_size\n",
        "\n",
        "# Print the ratios for each diagnosis value\n",
        "print(\"Ratios for each diagnosis value:\")\n",
        "print(val_ratios)\n",
        "#print(val_data['output_text'].value_counts())"
      ],
      "metadata": {
        "colab": {
          "base_uri": "https://localhost:8080/"
        },
        "id": "R434dcYYJ7Mw",
        "outputId": "2788cffc-6742-4b7f-ea1d-a57b7639ae96"
      },
      "execution_count": 29,
      "outputs": [
        {
          "output_type": "stream",
          "name": "stdout",
          "text": [
            "Ratios for each diagnosis value:\n",
            "urinary tract infection            0.046784\n",
            "bronchial asthma                   0.046784\n",
            "cervical spondylosis               0.046784\n",
            "varicose veins                     0.046784\n",
            "fungal infection                   0.046784\n",
            "impetigo                           0.046784\n",
            "drug reaction                      0.046784\n",
            "chicken pox                        0.046784\n",
            "arthritis                          0.046784\n",
            "malaria                            0.046784\n",
            "gastroesophageal reflux disease    0.046784\n",
            "common cold                        0.046784\n",
            "hypertension                       0.046784\n",
            "typhoid                            0.046784\n",
            "psoriasis                          0.046784\n",
            "allergy                            0.046784\n",
            "dengue                             0.046784\n",
            "diabetes                           0.046784\n",
            "peptic ulcer disease               0.040936\n",
            "jaundice                           0.040936\n",
            "pneumonia                          0.040936\n",
            "migraine                           0.035088\n",
            "Name: output_text, dtype: float64\n"
          ]
        }
      ]
    },
    {
      "cell_type": "code",
      "source": [
        "print(\"train equals val:\", train_ratios.equals(val_ratios))\n",
        "tolerance_threshold = 0.005\n",
        "# Calculate the absolute difference between training and validation ratios\n",
        "abs_diff_ratio = (train_ratios - val_ratios).abs()\n",
        "\n",
        "# Check if the absolute difference is within the tolerable offset\n",
        "is_within_tolerance = (abs_diff_ratio <= tolerance_threshold).all()\n",
        "if is_within_tolerance:\n",
        "    print(\"Ratios of diagnoses in training and validation sets are within the tolerable offset.\")\n",
        "else:\n",
        "    print(\"Ratios of diagnoses in training and validation sets are not within the tolerable offset.\")\n",
        "    print(\"\\nAbsolute differences between ratios:\")\n",
        "    print(abs_diff_ratio)"
      ],
      "metadata": {
        "colab": {
          "base_uri": "https://localhost:8080/"
        },
        "id": "US1xZi74J6L9",
        "outputId": "065e49c6-1b04-45e9-eeed-0930b5473e85"
      },
      "execution_count": 30,
      "outputs": [
        {
          "output_type": "stream",
          "name": "stdout",
          "text": [
            "train equals val: False\n",
            "Ratios of diagnoses in training and validation sets are within the tolerable offset.\n"
          ]
        }
      ]
    },
    {
      "cell_type": "code",
      "source": [
        "train_data.to_csv('n1 train 0.6.csv', index=False)\n",
        "val_data.to_csv('n1 validation.csv', index=False)\n",
        "print(\"Data saved to CSV successfully.\")"
      ],
      "metadata": {
        "colab": {
          "base_uri": "https://localhost:8080/"
        },
        "id": "O-M3Dr-1WKg8",
        "outputId": "5124c8ea-7758-4f6d-b1b9-20d4ff1df0e5"
      },
      "execution_count": 31,
      "outputs": [
        {
          "output_type": "stream",
          "name": "stdout",
          "text": [
            "Data saved to CSV successfully.\n"
          ]
        }
      ]
    }
  ]
}