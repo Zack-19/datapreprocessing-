{
  "nbformat": 4,
  "nbformat_minor": 0,
  "metadata": {
    "colab": {
      "provenance": []
    },
    "kernelspec": {
      "name": "python3",
      "display_name": "Python 3"
    },
    "language_info": {
      "name": "python"
    }
  },
  "cells": [
    {
      "cell_type": "code",
      "source": [
        "from google.colab import drive\n",
        "drive.mount('/content/drive')"
      ],
      "metadata": {
        "colab": {
          "base_uri": "https://localhost:8080/"
        },
        "id": "PscIhcAnmVzk",
        "outputId": "7837ba1d-62ce-4f51-c97a-3462eaf7015f"
      },
      "execution_count": 1,
      "outputs": [
        {
          "output_type": "stream",
          "name": "stdout",
          "text": [
            "Mounted at /content/drive\n"
          ]
        }
      ]
    },
    {
      "cell_type": "code",
      "source": [
        "%cd /content/drive/Shared drives/private_path/preprocessing/symptoms - disease/\n",
        "%ls"
      ],
      "metadata": {
        "colab": {
          "base_uri": "https://localhost:8080/"
        },
        "id": "Z6jUrplFouRd",
        "outputId": "9df3d2e7-dec2-4e24-f546-4ec286237068"
      },
      "execution_count": 14,
      "outputs": [
        {
          "output_type": "stream",
          "name": "stdout",
          "text": [
            "/content/drive/Shared drives/private path/preprocessing/symptoms - disease\n",
            "'n1 test.jsonl'  'n1 train.jsonl'\n"
          ]
        }
      ]
    },
    {
      "cell_type": "code",
      "source": [
        "import json\n",
        "import csv\n",
        "import pandas as pd\n",
        "jsonl_file = '/content/drive/Shared drives/private_path/preprocessing/symptoms - disease/n1 test.jsonl'\n",
        "csv_file = 'n1 test.csv'"
      ],
      "metadata": {
        "id": "TAomnhkqsrSO"
      },
      "execution_count": 23,
      "outputs": []
    },
    {
      "cell_type": "code",
      "source": [
        "\n",
        "# Open the JSONL file and CSV file\n",
        "with open(jsonl_file, 'r') as f:\n",
        "        with open(csv_file, 'w', newline='') as csvfile:\n",
        "            fieldnames = ['output_text', 'input_text']  # Specify field names for CSV header\n",
        "            writer = csv.DictWriter(csvfile, fieldnames=fieldnames)\n",
        "            writer.writeheader()\n",
        "\n",
        "    # Iterate over each line in the JSONL file\n",
        "            for line in f:\n",
        "                # Parse the JSON from each line\n",
        "                json_row = json.loads(line)\n",
        "\n",
        "                # Extract values for each field\n",
        "                output_text = json_row['output_text']\n",
        "                input_text = json_row['input_text']\n",
        "\n",
        "                # Write to CSV\n",
        "                writer.writerow({'output_text': output_text, 'input_text': input_text})\n",
        "\n",
        "print(\"CSV file has been created successfully.\")\n"
      ],
      "metadata": {
        "colab": {
          "base_uri": "https://localhost:8080/"
        },
        "id": "I0Ikf2uutSKG",
        "outputId": "fcb87b52-be8b-4b74-baff-df0b949418d8"
      },
      "execution_count": 24,
      "outputs": [
        {
          "output_type": "stream",
          "name": "stdout",
          "text": [
            "CSV file has been created successfully.\n"
          ]
        }
      ]
    },
    {
      "cell_type": "code",
      "source": [
        "# note when the  work is finished the csv file is stored at te same directory\n",
        "df = pd.read_csv(csv_file)\n",
        "print(df.head())"
      ],
      "metadata": {
        "colab": {
          "base_uri": "https://localhost:8080/"
        },
        "id": "Ly9HtEKFvHBE",
        "outputId": "e1ee5e1d-d120-41c1-e47b-6ec6386bb780"
      },
      "execution_count": 25,
      "outputs": [
        {
          "output_type": "stream",
          "name": "stdout",
          "text": [
            "            output_text                                         input_text\n",
            "0  peptic ulcer disease  I have a burning sensation in my stomach that ...\n",
            "1  peptic ulcer disease  I have a hard time swallowing and I feel like ...\n",
            "2         drug reaction  I've been having headaches and migraines, and ...\n",
            "3             pneumonia  I'm sweating a lot and can't catch my breath. ...\n",
            "4      fungal infection  I've been scratching myself a lot lately, and ...\n"
          ]
        }
      ]
    }
  ]
}
